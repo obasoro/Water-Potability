{
 "cells": [
  {
   "cell_type": "markdown",
   "id": "13601ca6",
   "metadata": {},
   "source": [
    "# Macchine Learning project for water portability"
   ]
  },
  {
   "cell_type": "markdown",
   "id": "57ae83b4",
   "metadata": {},
   "source": [
    "Water quality is important in the health of the people. It has been said the what you eat or drink has a long in determining state of health of an individual"
   ]
  },
  {
   "cell_type": "code",
   "execution_count": 1,
   "id": "2b517530",
   "metadata": {},
   "outputs": [],
   "source": [
    "#import python libraries\n",
    "import os\n",
    "import pandas as pd\n",
    "import numpy\n",
    "import matplotlib.pyplot as plt\n",
    "import seaborn as sns\n",
    "import plotly\n",
    "\n",
    "from sklearn.model_selection import train_test_split, cross_val_score, RandomizedSearchCV, GridSearchCV\n",
    "from sklearn.metrics import confusion_matrix, classification_report\n",
    "from sklearn.preprocessing import StandardScaler\n",
    "from imblearn.over_sampling import SMOTE\n",
    "\n",
    "from sklearn.linear_model import LogisticRegression\n",
    "from sklearn.naive_bayes import GaussianNB\n",
    "from sklearn.ensemble import RandomForestClassifier, ExtraTreesClassifier\n",
    "from sklearn.neighbors import KNeighborsClassifier\n",
    "from sklearn.tree import DecisionTreeClassifier\n",
    "\n",
    "from xgboost.sklearn import XGBClassifier\n",
    "#from catboost import CatBoostClassifier\n",
    "\n",
    "import warnings\n",
    "warnings.simplefilter(\"ignore\")\n",
    "%matplotlib inline\n",
    "#import scikit-learn"
   ]
  },
  {
   "cell_type": "code",
   "execution_count": 2,
   "id": "aaf78ecd",
   "metadata": {},
   "outputs": [],
   "source": [
    "# importing the training data for processing\n",
    "water_data = pd.read_csv('Train.csv')"
   ]
  },
  {
   "cell_type": "code",
   "execution_count": 3,
   "id": "d9b6cb15",
   "metadata": {},
   "outputs": [
    {
     "data": {
      "text/html": [
       "<div>\n",
       "<style scoped>\n",
       "    .dataframe tbody tr th:only-of-type {\n",
       "        vertical-align: middle;\n",
       "    }\n",
       "\n",
       "    .dataframe tbody tr th {\n",
       "        vertical-align: top;\n",
       "    }\n",
       "\n",
       "    .dataframe thead th {\n",
       "        text-align: right;\n",
       "    }\n",
       "</style>\n",
       "<table border=\"1\" class=\"dataframe\">\n",
       "  <thead>\n",
       "    <tr style=\"text-align: right;\">\n",
       "      <th></th>\n",
       "      <th>region_area_</th>\n",
       "      <th>ph</th>\n",
       "      <th>Hardness</th>\n",
       "      <th>Solids</th>\n",
       "      <th>Chloramines</th>\n",
       "      <th>Sulfate</th>\n",
       "      <th>Conductivity</th>\n",
       "      <th>Organic_carbon</th>\n",
       "      <th>Trihalomethanes</th>\n",
       "      <th>Turbidity</th>\n",
       "      <th>Potability</th>\n",
       "    </tr>\n",
       "  </thead>\n",
       "  <tbody>\n",
       "    <tr>\n",
       "      <th>0</th>\n",
       "      <td>region_area_1</td>\n",
       "      <td>3.716080</td>\n",
       "      <td>180.196811</td>\n",
       "      <td>18630.362669</td>\n",
       "      <td>6.330435</td>\n",
       "      <td>NaN</td>\n",
       "      <td>602.990359</td>\n",
       "      <td>15.285013</td>\n",
       "      <td>56.444076</td>\n",
       "      <td>4.500656</td>\n",
       "      <td>0</td>\n",
       "    </tr>\n",
       "    <tr>\n",
       "      <th>1</th>\n",
       "      <td>region_area_100</td>\n",
       "      <td>4.270716</td>\n",
       "      <td>217.611599</td>\n",
       "      <td>24405.555346</td>\n",
       "      <td>7.086700</td>\n",
       "      <td>297.951852</td>\n",
       "      <td>359.623910</td>\n",
       "      <td>13.583526</td>\n",
       "      <td>54.589840</td>\n",
       "      <td>3.763906</td>\n",
       "      <td>0</td>\n",
       "    </tr>\n",
       "    <tr>\n",
       "      <th>2</th>\n",
       "      <td>region_area_1000</td>\n",
       "      <td>6.648849</td>\n",
       "      <td>232.462013</td>\n",
       "      <td>30733.808648</td>\n",
       "      <td>5.656462</td>\n",
       "      <td>344.670335</td>\n",
       "      <td>267.809179</td>\n",
       "      <td>17.863444</td>\n",
       "      <td>35.411181</td>\n",
       "      <td>4.827527</td>\n",
       "      <td>0</td>\n",
       "    </tr>\n",
       "    <tr>\n",
       "      <th>3</th>\n",
       "      <td>region_area_1001</td>\n",
       "      <td>NaN</td>\n",
       "      <td>261.753637</td>\n",
       "      <td>21174.713291</td>\n",
       "      <td>7.314074</td>\n",
       "      <td>NaN</td>\n",
       "      <td>582.848407</td>\n",
       "      <td>15.215849</td>\n",
       "      <td>90.367455</td>\n",
       "      <td>4.217553</td>\n",
       "      <td>0</td>\n",
       "    </tr>\n",
       "    <tr>\n",
       "      <th>4</th>\n",
       "      <td>region_area_1002</td>\n",
       "      <td>9.323584</td>\n",
       "      <td>263.484560</td>\n",
       "      <td>15751.480111</td>\n",
       "      <td>5.196259</td>\n",
       "      <td>297.593625</td>\n",
       "      <td>409.878704</td>\n",
       "      <td>10.727265</td>\n",
       "      <td>74.669285</td>\n",
       "      <td>3.006650</td>\n",
       "      <td>0</td>\n",
       "    </tr>\n",
       "  </tbody>\n",
       "</table>\n",
       "</div>"
      ],
      "text/plain": [
       "       region_area_        ph    Hardness        Solids  Chloramines  \\\n",
       "0     region_area_1  3.716080  180.196811  18630.362669     6.330435   \n",
       "1   region_area_100  4.270716  217.611599  24405.555346     7.086700   \n",
       "2  region_area_1000  6.648849  232.462013  30733.808648     5.656462   \n",
       "3  region_area_1001       NaN  261.753637  21174.713291     7.314074   \n",
       "4  region_area_1002  9.323584  263.484560  15751.480111     5.196259   \n",
       "\n",
       "      Sulfate  Conductivity  Organic_carbon  Trihalomethanes  Turbidity  \\\n",
       "0         NaN    602.990359       15.285013        56.444076   4.500656   \n",
       "1  297.951852    359.623910       13.583526        54.589840   3.763906   \n",
       "2  344.670335    267.809179       17.863444        35.411181   4.827527   \n",
       "3         NaN    582.848407       15.215849        90.367455   4.217553   \n",
       "4  297.593625    409.878704       10.727265        74.669285   3.006650   \n",
       "\n",
       "   Potability  \n",
       "0           0  \n",
       "1           0  \n",
       "2           0  \n",
       "3           0  \n",
       "4           0  "
      ]
     },
     "execution_count": 3,
     "metadata": {},
     "output_type": "execute_result"
    }
   ],
   "source": [
    "water_data.head()"
   ]
  },
  {
   "cell_type": "code",
   "execution_count": 4,
   "id": "8acdc679",
   "metadata": {},
   "outputs": [
    {
     "data": {
      "text/plain": [
       "(2260, 11)"
      ]
     },
     "execution_count": 4,
     "metadata": {},
     "output_type": "execute_result"
    }
   ],
   "source": [
    "water_data.shape"
   ]
  },
  {
   "cell_type": "code",
   "execution_count": 5,
   "id": "4f5de2b9",
   "metadata": {},
   "outputs": [],
   "source": [
    "water_data_test = pd.read_csv('Test.csv')"
   ]
  },
  {
   "cell_type": "code",
   "execution_count": 6,
   "id": "3a40fd87",
   "metadata": {},
   "outputs": [
    {
     "data": {
      "text/html": [
       "<div>\n",
       "<style scoped>\n",
       "    .dataframe tbody tr th:only-of-type {\n",
       "        vertical-align: middle;\n",
       "    }\n",
       "\n",
       "    .dataframe tbody tr th {\n",
       "        vertical-align: top;\n",
       "    }\n",
       "\n",
       "    .dataframe thead th {\n",
       "        text-align: right;\n",
       "    }\n",
       "</style>\n",
       "<table border=\"1\" class=\"dataframe\">\n",
       "  <thead>\n",
       "    <tr style=\"text-align: right;\">\n",
       "      <th></th>\n",
       "      <th>region_area_</th>\n",
       "      <th>ph</th>\n",
       "      <th>Hardness</th>\n",
       "      <th>Solids</th>\n",
       "      <th>Chloramines</th>\n",
       "      <th>Sulfate</th>\n",
       "      <th>Conductivity</th>\n",
       "      <th>Organic_carbon</th>\n",
       "      <th>Trihalomethanes</th>\n",
       "      <th>Turbidity</th>\n",
       "    </tr>\n",
       "  </thead>\n",
       "  <tbody>\n",
       "    <tr>\n",
       "      <th>0</th>\n",
       "      <td>region_area_0</td>\n",
       "      <td>NaN</td>\n",
       "      <td>255.664346</td>\n",
       "      <td>20791.623791</td>\n",
       "      <td>6.995401</td>\n",
       "      <td>369.261555</td>\n",
       "      <td>574.413654</td>\n",
       "      <td>10.484783</td>\n",
       "      <td>87.105970</td>\n",
       "      <td>2.963135</td>\n",
       "    </tr>\n",
       "    <tr>\n",
       "      <th>1</th>\n",
       "      <td>region_area_10</td>\n",
       "      <td>7.360640</td>\n",
       "      <td>216.294688</td>\n",
       "      <td>32452.919220</td>\n",
       "      <td>7.245890</td>\n",
       "      <td>327.369467</td>\n",
       "      <td>435.488419</td>\n",
       "      <td>15.691810</td>\n",
       "      <td>78.855016</td>\n",
       "      <td>3.662292</td>\n",
       "    </tr>\n",
       "    <tr>\n",
       "      <th>2</th>\n",
       "      <td>region_area_1006</td>\n",
       "      <td>7.230845</td>\n",
       "      <td>228.348694</td>\n",
       "      <td>17864.994196</td>\n",
       "      <td>5.513418</td>\n",
       "      <td>344.338446</td>\n",
       "      <td>377.794992</td>\n",
       "      <td>20.017950</td>\n",
       "      <td>59.418053</td>\n",
       "      <td>5.622018</td>\n",
       "    </tr>\n",
       "    <tr>\n",
       "      <th>3</th>\n",
       "      <td>region_area_1010</td>\n",
       "      <td>4.797460</td>\n",
       "      <td>241.089018</td>\n",
       "      <td>21280.551369</td>\n",
       "      <td>5.883692</td>\n",
       "      <td>327.539307</td>\n",
       "      <td>367.541193</td>\n",
       "      <td>11.818821</td>\n",
       "      <td>63.978068</td>\n",
       "      <td>4.038503</td>\n",
       "    </tr>\n",
       "    <tr>\n",
       "      <th>4</th>\n",
       "      <td>region_area_1011</td>\n",
       "      <td>9.319176</td>\n",
       "      <td>250.107456</td>\n",
       "      <td>14294.545161</td>\n",
       "      <td>7.480130</td>\n",
       "      <td>366.796865</td>\n",
       "      <td>348.546450</td>\n",
       "      <td>15.320293</td>\n",
       "      <td>63.506468</td>\n",
       "      <td>4.129230</td>\n",
       "    </tr>\n",
       "  </tbody>\n",
       "</table>\n",
       "</div>"
      ],
      "text/plain": [
       "       region_area_        ph    Hardness        Solids  Chloramines  \\\n",
       "0     region_area_0       NaN  255.664346  20791.623791     6.995401   \n",
       "1    region_area_10  7.360640  216.294688  32452.919220     7.245890   \n",
       "2  region_area_1006  7.230845  228.348694  17864.994196     5.513418   \n",
       "3  region_area_1010  4.797460  241.089018  21280.551369     5.883692   \n",
       "4  region_area_1011  9.319176  250.107456  14294.545161     7.480130   \n",
       "\n",
       "      Sulfate  Conductivity  Organic_carbon  Trihalomethanes  Turbidity  \n",
       "0  369.261555    574.413654       10.484783        87.105970   2.963135  \n",
       "1  327.369467    435.488419       15.691810        78.855016   3.662292  \n",
       "2  344.338446    377.794992       20.017950        59.418053   5.622018  \n",
       "3  327.539307    367.541193       11.818821        63.978068   4.038503  \n",
       "4  366.796865    348.546450       15.320293        63.506468   4.129230  "
      ]
     },
     "execution_count": 6,
     "metadata": {},
     "output_type": "execute_result"
    }
   ],
   "source": [
    "water_data_test.head()"
   ]
  },
  {
   "cell_type": "code",
   "execution_count": 7,
   "id": "95cf4b10",
   "metadata": {},
   "outputs": [
    {
     "data": {
      "text/plain": [
       "(1016, 10)"
      ]
     },
     "execution_count": 7,
     "metadata": {},
     "output_type": "execute_result"
    }
   ],
   "source": [
    "water_data_test.shape"
   ]
  },
  {
   "cell_type": "code",
   "execution_count": 8,
   "id": "6077ee4f",
   "metadata": {},
   "outputs": [
    {
     "name": "stdout",
     "output_type": "stream",
     "text": [
      "<class 'pandas.core.frame.DataFrame'>\n",
      "RangeIndex: 2260 entries, 0 to 2259\n",
      "Data columns (total 11 columns):\n",
      " #   Column           Non-Null Count  Dtype  \n",
      "---  ------           --------------  -----  \n",
      " 0   region_area_     2260 non-null   object \n",
      " 1   ph               1924 non-null   float64\n",
      " 2   Hardness         2260 non-null   float64\n",
      " 3   Solids           2260 non-null   float64\n",
      " 4   Chloramines      2260 non-null   float64\n",
      " 5   Sulfate          1713 non-null   float64\n",
      " 6   Conductivity     2260 non-null   float64\n",
      " 7   Organic_carbon   2260 non-null   float64\n",
      " 8   Trihalomethanes  2149 non-null   float64\n",
      " 9   Turbidity        2260 non-null   float64\n",
      " 10  Potability       2260 non-null   int64  \n",
      "dtypes: float64(9), int64(1), object(1)\n",
      "memory usage: 194.3+ KB\n"
     ]
    }
   ],
   "source": [
    "water_data.info()"
   ]
  },
  {
   "cell_type": "code",
   "execution_count": 9,
   "id": "943c4c35",
   "metadata": {},
   "outputs": [
    {
     "data": {
      "text/plain": [
       "region_area_         0\n",
       "ph                 336\n",
       "Hardness             0\n",
       "Solids               0\n",
       "Chloramines          0\n",
       "Sulfate            547\n",
       "Conductivity         0\n",
       "Organic_carbon       0\n",
       "Trihalomethanes    111\n",
       "Turbidity            0\n",
       "Potability           0\n",
       "dtype: int64"
      ]
     },
     "execution_count": 9,
     "metadata": {},
     "output_type": "execute_result"
    }
   ],
   "source": [
    "water_data.isnull().sum()"
   ]
  },
  {
   "cell_type": "code",
   "execution_count": 10,
   "id": "c005704a",
   "metadata": {},
   "outputs": [
    {
     "data": {
      "text/plain": [
       "0    1382\n",
       "1     878\n",
       "Name: Potability, dtype: int64"
      ]
     },
     "execution_count": 10,
     "metadata": {},
     "output_type": "execute_result"
    }
   ],
   "source": [
    "# Value count for potability column\n",
    "water_data['Potability'].value_counts()"
   ]
  },
  {
   "cell_type": "code",
   "execution_count": 11,
   "id": "ac1ba256",
   "metadata": {},
   "outputs": [
    {
     "data": {
      "text/plain": [
       "Hardness            247.000935\n",
       "Solids            22100.926521\n",
       "Chloramines           6.802715\n",
       "Conductivity        436.572437\n",
       "Organic_carbon       14.359075\n",
       "Turbidity             3.969176\n",
       "Potability            0.388496\n",
       "dtype: float64"
      ]
     },
     "execution_count": 11,
     "metadata": {},
     "output_type": "execute_result"
    }
   ],
   "source": [
    "\n",
    "water_data.fillna('Trihalomethanes').mean()"
   ]
  },
  {
   "cell_type": "code",
   "execution_count": 12,
   "id": "5fe2ae44",
   "metadata": {},
   "outputs": [
    {
     "data": {
      "text/html": [
       "<div>\n",
       "<style scoped>\n",
       "    .dataframe tbody tr th:only-of-type {\n",
       "        vertical-align: middle;\n",
       "    }\n",
       "\n",
       "    .dataframe tbody tr th {\n",
       "        vertical-align: top;\n",
       "    }\n",
       "\n",
       "    .dataframe thead th {\n",
       "        text-align: right;\n",
       "    }\n",
       "</style>\n",
       "<table border=\"1\" class=\"dataframe\">\n",
       "  <thead>\n",
       "    <tr style=\"text-align: right;\">\n",
       "      <th></th>\n",
       "      <th>count</th>\n",
       "      <th>mean</th>\n",
       "      <th>std</th>\n",
       "      <th>min</th>\n",
       "      <th>25%</th>\n",
       "      <th>50%</th>\n",
       "      <th>75%</th>\n",
       "      <th>max</th>\n",
       "    </tr>\n",
       "  </thead>\n",
       "  <tbody>\n",
       "    <tr>\n",
       "      <th>ph</th>\n",
       "      <td>1924.0</td>\n",
       "      <td>7.083561</td>\n",
       "      <td>1.596243</td>\n",
       "      <td>0.000000</td>\n",
       "      <td>6.114364</td>\n",
       "      <td>7.060886</td>\n",
       "      <td>8.045673</td>\n",
       "      <td>13.541240</td>\n",
       "    </tr>\n",
       "    <tr>\n",
       "      <th>Hardness</th>\n",
       "      <td>2260.0</td>\n",
       "      <td>247.000935</td>\n",
       "      <td>33.162065</td>\n",
       "      <td>124.266124</td>\n",
       "      <td>226.799112</td>\n",
       "      <td>247.379235</td>\n",
       "      <td>267.798367</td>\n",
       "      <td>373.897891</td>\n",
       "    </tr>\n",
       "    <tr>\n",
       "      <th>Solids</th>\n",
       "      <td>2260.0</td>\n",
       "      <td>22100.926521</td>\n",
       "      <td>8829.474740</td>\n",
       "      <td>321.247422</td>\n",
       "      <td>15761.393491</td>\n",
       "      <td>21149.453853</td>\n",
       "      <td>27347.271380</td>\n",
       "      <td>61227.500818</td>\n",
       "    </tr>\n",
       "    <tr>\n",
       "      <th>Chloramines</th>\n",
       "      <td>2260.0</td>\n",
       "      <td>6.802715</td>\n",
       "      <td>1.592352</td>\n",
       "      <td>0.047189</td>\n",
       "      <td>5.800652</td>\n",
       "      <td>6.828266</td>\n",
       "      <td>7.802569</td>\n",
       "      <td>12.822189</td>\n",
       "    </tr>\n",
       "    <tr>\n",
       "      <th>Sulfate</th>\n",
       "      <td>1713.0</td>\n",
       "      <td>334.601013</td>\n",
       "      <td>42.216115</td>\n",
       "      <td>129.745113</td>\n",
       "      <td>307.637713</td>\n",
       "      <td>333.943304</td>\n",
       "      <td>361.159118</td>\n",
       "      <td>481.775755</td>\n",
       "    </tr>\n",
       "    <tr>\n",
       "      <th>Conductivity</th>\n",
       "      <td>2260.0</td>\n",
       "      <td>436.572437</td>\n",
       "      <td>80.645313</td>\n",
       "      <td>211.724737</td>\n",
       "      <td>376.894507</td>\n",
       "      <td>432.813965</td>\n",
       "      <td>492.076858</td>\n",
       "      <td>718.331364</td>\n",
       "    </tr>\n",
       "    <tr>\n",
       "      <th>Organic_carbon</th>\n",
       "      <td>2260.0</td>\n",
       "      <td>14.359075</td>\n",
       "      <td>3.298100</td>\n",
       "      <td>4.476899</td>\n",
       "      <td>12.154291</td>\n",
       "      <td>14.325645</td>\n",
       "      <td>16.625857</td>\n",
       "      <td>28.405000</td>\n",
       "    </tr>\n",
       "    <tr>\n",
       "      <th>Trihalomethanes</th>\n",
       "      <td>2149.0</td>\n",
       "      <td>66.440129</td>\n",
       "      <td>16.321315</td>\n",
       "      <td>0.853000</td>\n",
       "      <td>55.918503</td>\n",
       "      <td>66.727984</td>\n",
       "      <td>77.488813</td>\n",
       "      <td>124.115000</td>\n",
       "    </tr>\n",
       "    <tr>\n",
       "      <th>Turbidity</th>\n",
       "      <td>2260.0</td>\n",
       "      <td>3.969176</td>\n",
       "      <td>0.777228</td>\n",
       "      <td>1.450000</td>\n",
       "      <td>3.444178</td>\n",
       "      <td>3.962502</td>\n",
       "      <td>4.502519</td>\n",
       "      <td>6.739000</td>\n",
       "    </tr>\n",
       "    <tr>\n",
       "      <th>Potability</th>\n",
       "      <td>2260.0</td>\n",
       "      <td>0.388496</td>\n",
       "      <td>0.487516</td>\n",
       "      <td>0.000000</td>\n",
       "      <td>0.000000</td>\n",
       "      <td>0.000000</td>\n",
       "      <td>1.000000</td>\n",
       "      <td>1.000000</td>\n",
       "    </tr>\n",
       "  </tbody>\n",
       "</table>\n",
       "</div>"
      ],
      "text/plain": [
       "                  count          mean          std         min           25%  \\\n",
       "ph               1924.0      7.083561     1.596243    0.000000      6.114364   \n",
       "Hardness         2260.0    247.000935    33.162065  124.266124    226.799112   \n",
       "Solids           2260.0  22100.926521  8829.474740  321.247422  15761.393491   \n",
       "Chloramines      2260.0      6.802715     1.592352    0.047189      5.800652   \n",
       "Sulfate          1713.0    334.601013    42.216115  129.745113    307.637713   \n",
       "Conductivity     2260.0    436.572437    80.645313  211.724737    376.894507   \n",
       "Organic_carbon   2260.0     14.359075     3.298100    4.476899     12.154291   \n",
       "Trihalomethanes  2149.0     66.440129    16.321315    0.853000     55.918503   \n",
       "Turbidity        2260.0      3.969176     0.777228    1.450000      3.444178   \n",
       "Potability       2260.0      0.388496     0.487516    0.000000      0.000000   \n",
       "\n",
       "                          50%           75%           max  \n",
       "ph                   7.060886      8.045673     13.541240  \n",
       "Hardness           247.379235    267.798367    373.897891  \n",
       "Solids           21149.453853  27347.271380  61227.500818  \n",
       "Chloramines          6.828266      7.802569     12.822189  \n",
       "Sulfate            333.943304    361.159118    481.775755  \n",
       "Conductivity       432.813965    492.076858    718.331364  \n",
       "Organic_carbon      14.325645     16.625857     28.405000  \n",
       "Trihalomethanes     66.727984     77.488813    124.115000  \n",
       "Turbidity            3.962502      4.502519      6.739000  \n",
       "Potability           0.000000      1.000000      1.000000  "
      ]
     },
     "execution_count": 12,
     "metadata": {},
     "output_type": "execute_result"
    }
   ],
   "source": [
    "water_data.describe().T"
   ]
  },
  {
   "cell_type": "code",
   "execution_count": 13,
   "id": "4689eff3",
   "metadata": {},
   "outputs": [
    {
     "data": {
      "text/html": [
       "<style  type=\"text/css\" >\n",
       "#T_6857c_row0_col1,#T_6857c_row3_col1,#T_6857c_row8_col1{\n",
       "            width:  10em;\n",
       "             height:  80%;\n",
       "            background:  linear-gradient(90deg,#606ff2 0.0%, transparent 0.0%);\n",
       "        }#T_6857c_row0_col2,#T_6857c_row0_col5,#T_6857c_row1_col2,#T_6857c_row3_col2,#T_6857c_row3_col5,#T_6857c_row6_col2,#T_6857c_row6_col5,#T_6857c_row7_col2,#T_6857c_row7_col5,#T_6857c_row8_col2,#T_6857c_row8_col5,#T_6857c_row9_col2,#T_6857c_row9_col5{\n",
       "            background-color:  #fff7fb;\n",
       "            color:  #000000;\n",
       "        }#T_6857c_row1_col1{\n",
       "            width:  10em;\n",
       "             height:  80%;\n",
       "            background:  linear-gradient(90deg,#606ff2 1.1%, transparent 1.1%);\n",
       "        }#T_6857c_row1_col5,#T_6857c_row5_col2{\n",
       "            background-color:  #fef6fa;\n",
       "            color:  #000000;\n",
       "        }#T_6857c_row2_col1{\n",
       "            width:  10em;\n",
       "             height:  80%;\n",
       "            background:  linear-gradient(90deg,#606ff2 100.0%, transparent 100.0%);\n",
       "        }#T_6857c_row2_col2,#T_6857c_row2_col5{\n",
       "            background-color:  #023858;\n",
       "            color:  #f1f1f1;\n",
       "        }#T_6857c_row4_col1{\n",
       "            width:  10em;\n",
       "             height:  80%;\n",
       "            background:  linear-gradient(90deg,#606ff2 1.5%, transparent 1.5%);\n",
       "        }#T_6857c_row4_col2{\n",
       "            background-color:  #fef6fb;\n",
       "            color:  #000000;\n",
       "        }#T_6857c_row4_col5{\n",
       "            background-color:  #fdf5fa;\n",
       "            color:  #000000;\n",
       "        }#T_6857c_row5_col1{\n",
       "            width:  10em;\n",
       "             height:  80%;\n",
       "            background:  linear-gradient(90deg,#606ff2 2.0%, transparent 2.0%);\n",
       "        }#T_6857c_row5_col5{\n",
       "            background-color:  #fcf4fa;\n",
       "            color:  #000000;\n",
       "        }#T_6857c_row6_col1{\n",
       "            width:  10em;\n",
       "             height:  80%;\n",
       "            background:  linear-gradient(90deg,#606ff2 0.1%, transparent 0.1%);\n",
       "        }#T_6857c_row7_col1{\n",
       "            width:  10em;\n",
       "             height:  80%;\n",
       "            background:  linear-gradient(90deg,#606ff2 0.3%, transparent 0.3%);\n",
       "        }#T_6857c_row9_col1{\n",
       "            width:  10em;\n",
       "             height:  80%;\n",
       "        }</style><table id=\"T_6857c_\" ><thead>    <tr>        <th class=\"blank level0\" ></th>        <th class=\"col_heading level0 col0\" >count</th>        <th class=\"col_heading level0 col1\" >mean</th>        <th class=\"col_heading level0 col2\" >std</th>        <th class=\"col_heading level0 col3\" >min</th>        <th class=\"col_heading level0 col4\" >25%</th>        <th class=\"col_heading level0 col5\" >50%</th>        <th class=\"col_heading level0 col6\" >75%</th>        <th class=\"col_heading level0 col7\" >max</th>    </tr></thead><tbody>\n",
       "                <tr>\n",
       "                        <th id=\"T_6857c_level0_row0\" class=\"row_heading level0 row0\" >ph</th>\n",
       "                        <td id=\"T_6857c_row0_col0\" class=\"data row0 col0\" >1924.000000</td>\n",
       "                        <td id=\"T_6857c_row0_col1\" class=\"data row0 col1\" >7.083561</td>\n",
       "                        <td id=\"T_6857c_row0_col2\" class=\"data row0 col2\" >1.596243</td>\n",
       "                        <td id=\"T_6857c_row0_col3\" class=\"data row0 col3\" >0.000000</td>\n",
       "                        <td id=\"T_6857c_row0_col4\" class=\"data row0 col4\" >6.114364</td>\n",
       "                        <td id=\"T_6857c_row0_col5\" class=\"data row0 col5\" >7.060886</td>\n",
       "                        <td id=\"T_6857c_row0_col6\" class=\"data row0 col6\" >8.045673</td>\n",
       "                        <td id=\"T_6857c_row0_col7\" class=\"data row0 col7\" >13.541240</td>\n",
       "            </tr>\n",
       "            <tr>\n",
       "                        <th id=\"T_6857c_level0_row1\" class=\"row_heading level0 row1\" >Hardness</th>\n",
       "                        <td id=\"T_6857c_row1_col0\" class=\"data row1 col0\" >2260.000000</td>\n",
       "                        <td id=\"T_6857c_row1_col1\" class=\"data row1 col1\" >247.000935</td>\n",
       "                        <td id=\"T_6857c_row1_col2\" class=\"data row1 col2\" >33.162065</td>\n",
       "                        <td id=\"T_6857c_row1_col3\" class=\"data row1 col3\" >124.266124</td>\n",
       "                        <td id=\"T_6857c_row1_col4\" class=\"data row1 col4\" >226.799112</td>\n",
       "                        <td id=\"T_6857c_row1_col5\" class=\"data row1 col5\" >247.379235</td>\n",
       "                        <td id=\"T_6857c_row1_col6\" class=\"data row1 col6\" >267.798367</td>\n",
       "                        <td id=\"T_6857c_row1_col7\" class=\"data row1 col7\" >373.897891</td>\n",
       "            </tr>\n",
       "            <tr>\n",
       "                        <th id=\"T_6857c_level0_row2\" class=\"row_heading level0 row2\" >Solids</th>\n",
       "                        <td id=\"T_6857c_row2_col0\" class=\"data row2 col0\" >2260.000000</td>\n",
       "                        <td id=\"T_6857c_row2_col1\" class=\"data row2 col1\" >22100.926521</td>\n",
       "                        <td id=\"T_6857c_row2_col2\" class=\"data row2 col2\" >8829.474740</td>\n",
       "                        <td id=\"T_6857c_row2_col3\" class=\"data row2 col3\" >321.247422</td>\n",
       "                        <td id=\"T_6857c_row2_col4\" class=\"data row2 col4\" >15761.393491</td>\n",
       "                        <td id=\"T_6857c_row2_col5\" class=\"data row2 col5\" >21149.453853</td>\n",
       "                        <td id=\"T_6857c_row2_col6\" class=\"data row2 col6\" >27347.271380</td>\n",
       "                        <td id=\"T_6857c_row2_col7\" class=\"data row2 col7\" >61227.500818</td>\n",
       "            </tr>\n",
       "            <tr>\n",
       "                        <th id=\"T_6857c_level0_row3\" class=\"row_heading level0 row3\" >Chloramines</th>\n",
       "                        <td id=\"T_6857c_row3_col0\" class=\"data row3 col0\" >2260.000000</td>\n",
       "                        <td id=\"T_6857c_row3_col1\" class=\"data row3 col1\" >6.802715</td>\n",
       "                        <td id=\"T_6857c_row3_col2\" class=\"data row3 col2\" >1.592352</td>\n",
       "                        <td id=\"T_6857c_row3_col3\" class=\"data row3 col3\" >0.047189</td>\n",
       "                        <td id=\"T_6857c_row3_col4\" class=\"data row3 col4\" >5.800652</td>\n",
       "                        <td id=\"T_6857c_row3_col5\" class=\"data row3 col5\" >6.828266</td>\n",
       "                        <td id=\"T_6857c_row3_col6\" class=\"data row3 col6\" >7.802569</td>\n",
       "                        <td id=\"T_6857c_row3_col7\" class=\"data row3 col7\" >12.822189</td>\n",
       "            </tr>\n",
       "            <tr>\n",
       "                        <th id=\"T_6857c_level0_row4\" class=\"row_heading level0 row4\" >Sulfate</th>\n",
       "                        <td id=\"T_6857c_row4_col0\" class=\"data row4 col0\" >1713.000000</td>\n",
       "                        <td id=\"T_6857c_row4_col1\" class=\"data row4 col1\" >334.601013</td>\n",
       "                        <td id=\"T_6857c_row4_col2\" class=\"data row4 col2\" >42.216115</td>\n",
       "                        <td id=\"T_6857c_row4_col3\" class=\"data row4 col3\" >129.745113</td>\n",
       "                        <td id=\"T_6857c_row4_col4\" class=\"data row4 col4\" >307.637713</td>\n",
       "                        <td id=\"T_6857c_row4_col5\" class=\"data row4 col5\" >333.943304</td>\n",
       "                        <td id=\"T_6857c_row4_col6\" class=\"data row4 col6\" >361.159118</td>\n",
       "                        <td id=\"T_6857c_row4_col7\" class=\"data row4 col7\" >481.775755</td>\n",
       "            </tr>\n",
       "            <tr>\n",
       "                        <th id=\"T_6857c_level0_row5\" class=\"row_heading level0 row5\" >Conductivity</th>\n",
       "                        <td id=\"T_6857c_row5_col0\" class=\"data row5 col0\" >2260.000000</td>\n",
       "                        <td id=\"T_6857c_row5_col1\" class=\"data row5 col1\" >436.572437</td>\n",
       "                        <td id=\"T_6857c_row5_col2\" class=\"data row5 col2\" >80.645313</td>\n",
       "                        <td id=\"T_6857c_row5_col3\" class=\"data row5 col3\" >211.724737</td>\n",
       "                        <td id=\"T_6857c_row5_col4\" class=\"data row5 col4\" >376.894507</td>\n",
       "                        <td id=\"T_6857c_row5_col5\" class=\"data row5 col5\" >432.813965</td>\n",
       "                        <td id=\"T_6857c_row5_col6\" class=\"data row5 col6\" >492.076858</td>\n",
       "                        <td id=\"T_6857c_row5_col7\" class=\"data row5 col7\" >718.331364</td>\n",
       "            </tr>\n",
       "            <tr>\n",
       "                        <th id=\"T_6857c_level0_row6\" class=\"row_heading level0 row6\" >Organic_carbon</th>\n",
       "                        <td id=\"T_6857c_row6_col0\" class=\"data row6 col0\" >2260.000000</td>\n",
       "                        <td id=\"T_6857c_row6_col1\" class=\"data row6 col1\" >14.359075</td>\n",
       "                        <td id=\"T_6857c_row6_col2\" class=\"data row6 col2\" >3.298100</td>\n",
       "                        <td id=\"T_6857c_row6_col3\" class=\"data row6 col3\" >4.476899</td>\n",
       "                        <td id=\"T_6857c_row6_col4\" class=\"data row6 col4\" >12.154291</td>\n",
       "                        <td id=\"T_6857c_row6_col5\" class=\"data row6 col5\" >14.325645</td>\n",
       "                        <td id=\"T_6857c_row6_col6\" class=\"data row6 col6\" >16.625857</td>\n",
       "                        <td id=\"T_6857c_row6_col7\" class=\"data row6 col7\" >28.405000</td>\n",
       "            </tr>\n",
       "            <tr>\n",
       "                        <th id=\"T_6857c_level0_row7\" class=\"row_heading level0 row7\" >Trihalomethanes</th>\n",
       "                        <td id=\"T_6857c_row7_col0\" class=\"data row7 col0\" >2149.000000</td>\n",
       "                        <td id=\"T_6857c_row7_col1\" class=\"data row7 col1\" >66.440129</td>\n",
       "                        <td id=\"T_6857c_row7_col2\" class=\"data row7 col2\" >16.321315</td>\n",
       "                        <td id=\"T_6857c_row7_col3\" class=\"data row7 col3\" >0.853000</td>\n",
       "                        <td id=\"T_6857c_row7_col4\" class=\"data row7 col4\" >55.918503</td>\n",
       "                        <td id=\"T_6857c_row7_col5\" class=\"data row7 col5\" >66.727984</td>\n",
       "                        <td id=\"T_6857c_row7_col6\" class=\"data row7 col6\" >77.488813</td>\n",
       "                        <td id=\"T_6857c_row7_col7\" class=\"data row7 col7\" >124.115000</td>\n",
       "            </tr>\n",
       "            <tr>\n",
       "                        <th id=\"T_6857c_level0_row8\" class=\"row_heading level0 row8\" >Turbidity</th>\n",
       "                        <td id=\"T_6857c_row8_col0\" class=\"data row8 col0\" >2260.000000</td>\n",
       "                        <td id=\"T_6857c_row8_col1\" class=\"data row8 col1\" >3.969176</td>\n",
       "                        <td id=\"T_6857c_row8_col2\" class=\"data row8 col2\" >0.777228</td>\n",
       "                        <td id=\"T_6857c_row8_col3\" class=\"data row8 col3\" >1.450000</td>\n",
       "                        <td id=\"T_6857c_row8_col4\" class=\"data row8 col4\" >3.444178</td>\n",
       "                        <td id=\"T_6857c_row8_col5\" class=\"data row8 col5\" >3.962502</td>\n",
       "                        <td id=\"T_6857c_row8_col6\" class=\"data row8 col6\" >4.502519</td>\n",
       "                        <td id=\"T_6857c_row8_col7\" class=\"data row8 col7\" >6.739000</td>\n",
       "            </tr>\n",
       "            <tr>\n",
       "                        <th id=\"T_6857c_level0_row9\" class=\"row_heading level0 row9\" >Potability</th>\n",
       "                        <td id=\"T_6857c_row9_col0\" class=\"data row9 col0\" >2260.000000</td>\n",
       "                        <td id=\"T_6857c_row9_col1\" class=\"data row9 col1\" >0.388496</td>\n",
       "                        <td id=\"T_6857c_row9_col2\" class=\"data row9 col2\" >0.487516</td>\n",
       "                        <td id=\"T_6857c_row9_col3\" class=\"data row9 col3\" >0.000000</td>\n",
       "                        <td id=\"T_6857c_row9_col4\" class=\"data row9 col4\" >0.000000</td>\n",
       "                        <td id=\"T_6857c_row9_col5\" class=\"data row9 col5\" >0.000000</td>\n",
       "                        <td id=\"T_6857c_row9_col6\" class=\"data row9 col6\" >1.000000</td>\n",
       "                        <td id=\"T_6857c_row9_col7\" class=\"data row9 col7\" >1.000000</td>\n",
       "            </tr>\n",
       "    </tbody></table>"
      ],
      "text/plain": [
       "<pandas.io.formats.style.Styler at 0x1ca94b3fa30>"
      ]
     },
     "execution_count": 13,
     "metadata": {},
     "output_type": "execute_result"
    }
   ],
   "source": [
    "water_data.describe().T.style.bar(\n",
    "    subset=['mean'],\n",
    "    color='#606ff2').background_gradient(\n",
    "    subset=['std'], cmap='PuBu').background_gradient(subset=['50%'], cmap='PuBu')"
   ]
  },
  {
   "cell_type": "code",
   "execution_count": 14,
   "id": "62fb7e2b",
   "metadata": {},
   "outputs": [
    {
     "data": {
      "text/plain": [
       "0       3.716080\n",
       "1       4.270716\n",
       "2       6.648849\n",
       "3            NaN\n",
       "4       9.323584\n",
       "          ...   \n",
       "2255    8.347949\n",
       "2256    6.615982\n",
       "2257    6.836225\n",
       "2258    6.385471\n",
       "2259    6.490037\n",
       "Name: ph, Length: 2260, dtype: float64"
      ]
     },
     "execution_count": 14,
     "metadata": {},
     "output_type": "execute_result"
    }
   ],
   "source": [
    "water_data['ph']"
   ]
  },
  {
   "cell_type": "code",
   "execution_count": 15,
   "id": "4fd0571a",
   "metadata": {},
   "outputs": [
    {
     "data": {
      "text/plain": [
       "region_area_         0\n",
       "ph                 336\n",
       "Hardness             0\n",
       "Solids               0\n",
       "Chloramines          0\n",
       "Sulfate            547\n",
       "Conductivity         0\n",
       "Organic_carbon       0\n",
       "Trihalomethanes    111\n",
       "Turbidity            0\n",
       "Potability           0\n",
       "dtype: int64"
      ]
     },
     "execution_count": 15,
     "metadata": {},
     "output_type": "execute_result"
    }
   ],
   "source": [
    "water_data.isnull().sum()"
   ]
  },
  {
   "cell_type": "code",
   "execution_count": 16,
   "id": "bfdc9eb5",
   "metadata": {},
   "outputs": [
    {
     "data": {
      "image/png": "[encoded data removed]",
      "text/plain": [
       "<Figure size 432x288 with 1 Axes>"
      ]
     },
     "metadata": {
      "needs_background": "light"
     },
     "output_type": "display_data"
    }
   ],
   "source": [
    "# plotting the various features\n",
    "plt.hist(water_data['ph'], bins=30, edgecolor='black')\n",
    "plt.show()"
   ]
  },
  {
   "cell_type": "code",
   "execution_count": 17,
   "id": "ea288a4a",
   "metadata": {},
   "outputs": [
    {
     "data": {
      "text/plain": [
       "<AxesSubplot:>"
      ]
     },
     "execution_count": 17,
     "metadata": {},
     "output_type": "execute_result"
    },
    {
     "data": {
      "image/png": "[encoded data removed]",
      "text/plain": [
       "<Figure size 1080x720 with 2 Axes>"
      ]
     },
     "metadata": {
      "needs_background": "light"
     },
     "output_type": "display_data"
    }
   ],
   "source": [
    "# Correlation matrix for dataset\n",
    "plt.figure(figsize=(15,10))\n",
    "sns.heatmap(water_data.corr(), annot=True, cmap=\"inferno\")"
   ]
  },
  {
   "cell_type": "code",
   "execution_count": 19,
   "id": "0a8a04e8",
   "metadata": {},
   "outputs": [
    {
     "data": {
      "image/png": "[encoded data removed]",
      "text/plain": [
       "<Figure size 432x288 with 1 Axes>"
      ]
     },
     "metadata": {
      "needs_background": "light"
     },
     "output_type": "display_data"
    }
   ],
   "source": [
    "plt.hist(water_data['Conductivity'], bins=30, edgecolor='black')\n",
    "plt.show()"
   ]
  },
  {
   "cell_type": "code",
   "execution_count": 20,
   "id": "80281274",
   "metadata": {},
   "outputs": [
    {
     "data": {
      "image/png": "[encoded data removed]",
      "text/plain": [
       "<Figure size 432x288 with 1 Axes>"
      ]
     },
     "metadata": {
      "needs_background": "light"
     },
     "output_type": "display_data"
    }
   ],
   "source": [
    "water_data['ph'].plot(kind='hist', bins=30, color='red', alpha=0.5, density=True, edgecolor='black')\n",
    "water_data['ph'].plot(kind='kde', color='black')\n",
    "plt.xlabel('PH - API', fontsize=14)\n",
    "plt.ylabel('Conductivity', fontsize=14)\n",
    "plt.xlim(0,15)\n",
    "plt.savefig('PH.png')"
   ]
  },
  {
   "cell_type": "code",
   "execution_count": 21,
   "id": "a44b21b3",
   "metadata": {},
   "outputs": [
    {
     "data": {
      "image/png": "[encoded data removed]",
      "text/plain": [
       "<Figure size 432x288 with 1 Axes>"
      ]
     },
     "metadata": {
      "needs_background": "light"
     },
     "output_type": "display_data"
    }
   ],
   "source": [
    "water_data['Sulfate'].plot(kind='hist', bins=30, color='red', alpha=0.5, density=True, edgecolor='black')\n",
    "water_data['Sulfate'].plot(kind='kde', color='black')\n",
    "plt.xlabel('Sulfate - API', fontsize=14)\n",
    "plt.ylabel('Potability', fontsize=14)\n",
    "plt.xlim(129,500)\n",
    "plt.savefig('Sulfate.png')"
   ]
  },
  {
   "cell_type": "code",
   "execution_count": 22,
   "id": "95ffc32e",
   "metadata": {},
   "outputs": [
    {
     "data": {
      "image/png": "[encoded data removed]",
      "text/plain": [
       "<Figure size 432x288 with 1 Axes>"
      ]
     },
     "metadata": {
      "needs_background": "light"
     },
     "output_type": "display_data"
    }
   ],
   "source": [
    "water_data['Organic_carbon'].plot(kind='hist', bins=30, color='red', alpha=0.5, density=True, edgecolor='black')\n",
    "water_data['Organic_carbon'].plot(kind='kde', color='black')\n",
    "plt.xlabel('Carbon - API', fontsize=14)\n",
    "plt.ylabel('Potability', fontsize=14)\n",
    "plt.xlim(4.2,29)\n",
    "plt.savefig('Organic_carbon.png')"
   ]
  },
  {
   "cell_type": "code",
   "execution_count": 23,
   "id": "baa982a4",
   "metadata": {},
   "outputs": [
    {
     "data": {
      "image/png": "[encoded data removed]",
      "text/plain": [
       "<Figure size 432x288 with 1 Axes>"
      ]
     },
     "metadata": {
      "needs_background": "light"
     },
     "output_type": "display_data"
    }
   ],
   "source": [
    "water_data['Trihalomethanes'].plot(kind='hist', bins=30, color='red', alpha=0.5, density=True, edgecolor='black')\n",
    "water_data['Trihalomethanes'].plot(kind='kde', color='black')\n",
    "plt.xlabel('THM - API', fontsize=14)\n",
    "plt.ylabel('Potability', fontsize=14)\n",
    "plt.xlim(0.8,130)\n",
    "plt.savefig('Trihalomethanes.png')"
   ]
  },
  {
   "cell_type": "code",
   "execution_count": 24,
   "id": "99c6f531",
   "metadata": {},
   "outputs": [
    {
     "name": "stdout",
     "output_type": "stream",
     "text": [
      "Mean: \t 7.0835605893776865\n",
      "P05: \t 4.436821342632147\n",
      "P95: \t 9.775090962566894\n"
     ]
    }
   ],
   "source": [
    "mean = water_data['ph'].mean()\n",
    "p5 = water_data['ph'].quantile(0.05)\n",
    "p95 = water_data['ph'].quantile(0.95)\n",
    "\n",
    "print(f'Mean: \\t {mean}')\n",
    "print(f'P05: \\t {p5}')\n",
    "print(f'P95: \\t {p95}')"
   ]
  },
  {
   "cell_type": "code",
   "execution_count": 25,
   "id": "15eed25c",
   "metadata": {},
   "outputs": [
    {
     "data": {
      "image/png": "[encoded data removed]",
      "text/plain": [
       "<Figure size 432x288 with 1 Axes>"
      ]
     },
     "metadata": {
      "needs_background": "light"
     },
     "output_type": "display_data"
    }
   ],
   "source": [
    "water_data['ph'].plot(kind='hist', bins=30, color='red', alpha=0.5, edgecolor='black')\n",
    "plt.xlabel('PH', fontsize=14)\n",
    "plt.ylabel('Frequency', fontsize=14)\n",
    "plt.xlim(0,15)\n",
    "\n",
    "plt.axvline(mean, color='blue', label='mean')\n",
    "plt.axvline(p5, color='green', label='5th Percentile')\n",
    "plt.axvline(p95, color='purple', label='95th Percentile')\n",
    "\n",
    "plt.legend()\n",
    "plt.show()"
   ]
  },
  {
   "cell_type": "code",
   "execution_count": 26,
   "id": "95e341cb",
   "metadata": {},
   "outputs": [
    {
     "name": "stdout",
     "output_type": "stream",
     "text": [
      "38.85 % of samples are potable (1)\n"
     ]
    },
    {
     "data": {
      "image/png": "[encoded data removed]",
      "text/plain": [
       "<Figure size 432x288 with 1 Axes>"
      ]
     },
     "metadata": {
      "needs_background": "light"
     },
     "output_type": "display_data"
    }
   ],
   "source": [
    "# The plot of the value count of the potability column\n",
    "sns.countplot(x=water_data[\"Potability\"])\n",
    "\n",
    "\n",
    "print(f'{water_data.Potability[water_data.Potability==1].count()/water_data.Potability.count()*100:.2f} % of samples are potable (1)')"
   ]
  },
  {
   "cell_type": "code",
   "execution_count": 27,
   "id": "4ec16189",
   "metadata": {},
   "outputs": [
    {
     "data": {
      "text/plain": [
       "\"potable = water_data.query('Potability == 0')\\nnot_potable = water_data.query('Potability == 1')\\n\\nfig = plt.figure(figsize=(20,15))\\n\\n\\n\\nfor ax,column in enumerate(water_data.columns[:9]):\\n    plt.subplot(3,3,ax+1)\\n    #plt.title(f'Distribution of {column} values')\\n    sns.kdeplot(x=potable[column],label='Potable')\\n    sns.kdeplot(x=not_potable[column],label='Non_Potable')\\n    plt.legend(prop=dict(size=10))\\n\\n    \\nplt.tight_layout()\\nplt.show()\""
      ]
     },
     "execution_count": 27,
     "metadata": {},
     "output_type": "execute_result"
    }
   ],
   "source": [
    "\"\"\"potable = water_data.query('Potability == 0')\n",
    "not_potable = water_data.query('Potability == 1')\n",
    "\n",
    "fig = plt.figure(figsize=(20,15))\n",
    "\n",
    "\n",
    "\n",
    "for ax,column in enumerate(water_data.columns[:9]):\n",
    "    plt.subplot(3,3,ax+1)\n",
    "    #plt.title(f'Distribution of {column} values')\n",
    "    sns.kdeplot(x=potable[column],label='Potable')\n",
    "    sns.kdeplot(x=not_potable[column],label='Non_Potable')\n",
    "    plt.legend(prop=dict(size=10))\n",
    "\n",
    "    \n",
    "plt.tight_layout()\n",
    "plt.show()\"\"\""
   ]
  },
  {
   "cell_type": "code",
   "execution_count": 28,
   "id": "35bf6acd",
   "metadata": {},
   "outputs": [
    {
     "data": {
      "image/png": "[encoded data removed]",
      "text/plain": [
       "<Figure size 864x360 with 2 Axes>"
      ]
     },
     "metadata": {
      "needs_background": "light"
     },
     "output_type": "display_data"
    }
   ],
   "source": [
    "# Using the missigno module to visualize the missing dataset\n",
    "\n",
    "import missingno as msno\n",
    "msno.matrix(water_data,figsize=(12,5)) # missing relationship\n",
    "plt.show()"
   ]
  },
  {
   "cell_type": "code",
   "execution_count": 29,
   "id": "7db45d3a",
   "metadata": {},
   "outputs": [
    {
     "data": {
      "image/png": "[encoded data removed]",
      "text/plain": [
       "<Figure size 864x360 with 1 Axes>"
      ]
     },
     "metadata": {
      "needs_background": "light"
     },
     "output_type": "display_data"
    }
   ],
   "source": [
    "msno.dendrogram(water_data,figsize=(12,5)) # missing relationship step\n",
    "\n",
    "\"\"\"For dataset with 25% of missing values, the column should be dropped dataset\"\"\"\n",
    "plt.show()"
   ]
  },
  {
   "cell_type": "code",
   "execution_count": null,
   "id": "b12d4114",
   "metadata": {},
   "outputs": [],
   "source": [
    "water_data.cov()"
   ]
  },
  {
   "cell_type": "code",
   "execution_count": null,
   "id": "f754661d",
   "metadata": {},
   "outputs": [],
   "source": [
    "water_data.corr()"
   ]
  },
  {
   "cell_type": "markdown",
   "id": "c3b270ca",
   "metadata": {},
   "source": [
    "# Water dataset Analysis\n",
    "\n",
    "The water sampling contain both physical and chemical properties. The means of measurement of both parameters are different, so our model is to split the water analysis into chemical and physical and run a machine learning algorithms "
   ]
  },
  {
   "cell_type": "code",
   "execution_count": 31,
   "id": "0da8d1b0",
   "metadata": {},
   "outputs": [],
   "source": [
    "water_data_phy = water_data.drop(['region_area_', 'ph', 'Chloramines', 'Sulfate', 'Organic_carbon', 'Trihalomethanes'], axis = 'columns')"
   ]
  },
  {
   "cell_type": "code",
   "execution_count": 32,
   "id": "0adac485",
   "metadata": {},
   "outputs": [
    {
     "data": {
      "text/html": [
       "<div>\n",
       "<style scoped>\n",
       "    .dataframe tbody tr th:only-of-type {\n",
       "        vertical-align: middle;\n",
       "    }\n",
       "\n",
       "    .dataframe tbody tr th {\n",
       "        vertical-align: top;\n",
       "    }\n",
       "\n",
       "    .dataframe thead th {\n",
       "        text-align: right;\n",
       "    }\n",
       "</style>\n",
       "<table border=\"1\" class=\"dataframe\">\n",
       "  <thead>\n",
       "    <tr style=\"text-align: right;\">\n",
       "      <th></th>\n",
       "      <th>Hardness</th>\n",
       "      <th>Solids</th>\n",
       "      <th>Conductivity</th>\n",
       "      <th>Turbidity</th>\n",
       "      <th>Potability</th>\n",
       "    </tr>\n",
       "  </thead>\n",
       "  <tbody>\n",
       "    <tr>\n",
       "      <th>0</th>\n",
       "      <td>180.196811</td>\n",
       "      <td>18630.362669</td>\n",
       "      <td>602.990359</td>\n",
       "      <td>4.500656</td>\n",
       "      <td>0</td>\n",
       "    </tr>\n",
       "    <tr>\n",
       "      <th>1</th>\n",
       "      <td>217.611599</td>\n",
       "      <td>24405.555346</td>\n",
       "      <td>359.623910</td>\n",
       "      <td>3.763906</td>\n",
       "      <td>0</td>\n",
       "    </tr>\n",
       "    <tr>\n",
       "      <th>2</th>\n",
       "      <td>232.462013</td>\n",
       "      <td>30733.808648</td>\n",
       "      <td>267.809179</td>\n",
       "      <td>4.827527</td>\n",
       "      <td>0</td>\n",
       "    </tr>\n",
       "    <tr>\n",
       "      <th>3</th>\n",
       "      <td>261.753637</td>\n",
       "      <td>21174.713291</td>\n",
       "      <td>582.848407</td>\n",
       "      <td>4.217553</td>\n",
       "      <td>0</td>\n",
       "    </tr>\n",
       "    <tr>\n",
       "      <th>4</th>\n",
       "      <td>263.484560</td>\n",
       "      <td>15751.480111</td>\n",
       "      <td>409.878704</td>\n",
       "      <td>3.006650</td>\n",
       "      <td>0</td>\n",
       "    </tr>\n",
       "  </tbody>\n",
       "</table>\n",
       "</div>"
      ],
      "text/plain": [
       "     Hardness        Solids  Conductivity  Turbidity  Potability\n",
       "0  180.196811  18630.362669    602.990359   4.500656           0\n",
       "1  217.611599  24405.555346    359.623910   3.763906           0\n",
       "2  232.462013  30733.808648    267.809179   4.827527           0\n",
       "3  261.753637  21174.713291    582.848407   4.217553           0\n",
       "4  263.484560  15751.480111    409.878704   3.006650           0"
      ]
     },
     "execution_count": 32,
     "metadata": {},
     "output_type": "execute_result"
    }
   ],
   "source": [
    "water_data_phy.head()"
   ]
  },
  {
   "cell_type": "code",
   "execution_count": 33,
   "id": "099595b2",
   "metadata": {},
   "outputs": [],
   "source": [
    "water_data_chem = water_data.drop(['region_area_', 'Hardness', 'Solids', 'Conductivity', 'Turbidity'], axis = 'columns')"
   ]
  },
  {
   "cell_type": "code",
   "execution_count": 34,
   "id": "81bc34c4",
   "metadata": {},
   "outputs": [
    {
     "data": {
      "text/html": [
       "<div>\n",
       "<style scoped>\n",
       "    .dataframe tbody tr th:only-of-type {\n",
       "        vertical-align: middle;\n",
       "    }\n",
       "\n",
       "    .dataframe tbody tr th {\n",
       "        vertical-align: top;\n",
       "    }\n",
       "\n",
       "    .dataframe thead th {\n",
       "        text-align: right;\n",
       "    }\n",
       "</style>\n",
       "<table border=\"1\" class=\"dataframe\">\n",
       "  <thead>\n",
       "    <tr style=\"text-align: right;\">\n",
       "      <th></th>\n",
       "      <th>ph</th>\n",
       "      <th>Chloramines</th>\n",
       "      <th>Sulfate</th>\n",
       "      <th>Organic_carbon</th>\n",
       "      <th>Trihalomethanes</th>\n",
       "      <th>Potability</th>\n",
       "    </tr>\n",
       "  </thead>\n",
       "  <tbody>\n",
       "    <tr>\n",
       "      <th>0</th>\n",
       "      <td>3.716080</td>\n",
       "      <td>6.330435</td>\n",
       "      <td>NaN</td>\n",
       "      <td>15.285013</td>\n",
       "      <td>56.444076</td>\n",
       "      <td>0</td>\n",
       "    </tr>\n",
       "    <tr>\n",
       "      <th>1</th>\n",
       "      <td>4.270716</td>\n",
       "      <td>7.086700</td>\n",
       "      <td>297.951852</td>\n",
       "      <td>13.583526</td>\n",
       "      <td>54.589840</td>\n",
       "      <td>0</td>\n",
       "    </tr>\n",
       "    <tr>\n",
       "      <th>2</th>\n",
       "      <td>6.648849</td>\n",
       "      <td>5.656462</td>\n",
       "      <td>344.670335</td>\n",
       "      <td>17.863444</td>\n",
       "      <td>35.411181</td>\n",
       "      <td>0</td>\n",
       "    </tr>\n",
       "    <tr>\n",
       "      <th>3</th>\n",
       "      <td>NaN</td>\n",
       "      <td>7.314074</td>\n",
       "      <td>NaN</td>\n",
       "      <td>15.215849</td>\n",
       "      <td>90.367455</td>\n",
       "      <td>0</td>\n",
       "    </tr>\n",
       "    <tr>\n",
       "      <th>4</th>\n",
       "      <td>9.323584</td>\n",
       "      <td>5.196259</td>\n",
       "      <td>297.593625</td>\n",
       "      <td>10.727265</td>\n",
       "      <td>74.669285</td>\n",
       "      <td>0</td>\n",
       "    </tr>\n",
       "  </tbody>\n",
       "</table>\n",
       "</div>"
      ],
      "text/plain": [
       "         ph  Chloramines     Sulfate  Organic_carbon  Trihalomethanes  \\\n",
       "0  3.716080     6.330435         NaN       15.285013        56.444076   \n",
       "1  4.270716     7.086700  297.951852       13.583526        54.589840   \n",
       "2  6.648849     5.656462  344.670335       17.863444        35.411181   \n",
       "3       NaN     7.314074         NaN       15.215849        90.367455   \n",
       "4  9.323584     5.196259  297.593625       10.727265        74.669285   \n",
       "\n",
       "   Potability  \n",
       "0           0  \n",
       "1           0  \n",
       "2           0  \n",
       "3           0  \n",
       "4           0  "
      ]
     },
     "execution_count": 34,
     "metadata": {},
     "output_type": "execute_result"
    }
   ],
   "source": [
    "water_data_chem.head()"
   ]
  },
  {
   "cell_type": "code",
   "execution_count": 35,
   "id": "ec4466d5",
   "metadata": {},
   "outputs": [
    {
     "data": {
      "text/html": [
       "<div>\n",
       "<style scoped>\n",
       "    .dataframe tbody tr th:only-of-type {\n",
       "        vertical-align: middle;\n",
       "    }\n",
       "\n",
       "    .dataframe tbody tr th {\n",
       "        vertical-align: top;\n",
       "    }\n",
       "\n",
       "    .dataframe thead th {\n",
       "        text-align: right;\n",
       "    }\n",
       "</style>\n",
       "<table border=\"1\" class=\"dataframe\">\n",
       "  <thead>\n",
       "    <tr style=\"text-align: right;\">\n",
       "      <th></th>\n",
       "      <th>region_area_</th>\n",
       "      <th>ph</th>\n",
       "      <th>Hardness</th>\n",
       "      <th>Solids</th>\n",
       "      <th>Chloramines</th>\n",
       "      <th>Sulfate</th>\n",
       "      <th>Conductivity</th>\n",
       "      <th>Organic_carbon</th>\n",
       "      <th>Trihalomethanes</th>\n",
       "      <th>Turbidity</th>\n",
       "      <th>Potability</th>\n",
       "    </tr>\n",
       "  </thead>\n",
       "  <tbody>\n",
       "    <tr>\n",
       "      <th>1</th>\n",
       "      <td>region_area_100</td>\n",
       "      <td>4.270716</td>\n",
       "      <td>217.611599</td>\n",
       "      <td>24405.555346</td>\n",
       "      <td>7.086700</td>\n",
       "      <td>297.951852</td>\n",
       "      <td>359.623910</td>\n",
       "      <td>13.583526</td>\n",
       "      <td>54.589840</td>\n",
       "      <td>3.763906</td>\n",
       "      <td>0</td>\n",
       "    </tr>\n",
       "    <tr>\n",
       "      <th>2</th>\n",
       "      <td>region_area_1000</td>\n",
       "      <td>6.648849</td>\n",
       "      <td>232.462013</td>\n",
       "      <td>30733.808648</td>\n",
       "      <td>5.656462</td>\n",
       "      <td>344.670335</td>\n",
       "      <td>267.809179</td>\n",
       "      <td>17.863444</td>\n",
       "      <td>35.411181</td>\n",
       "      <td>4.827527</td>\n",
       "      <td>0</td>\n",
       "    </tr>\n",
       "    <tr>\n",
       "      <th>4</th>\n",
       "      <td>region_area_1002</td>\n",
       "      <td>9.323584</td>\n",
       "      <td>263.484560</td>\n",
       "      <td>15751.480111</td>\n",
       "      <td>5.196259</td>\n",
       "      <td>297.593625</td>\n",
       "      <td>409.878704</td>\n",
       "      <td>10.727265</td>\n",
       "      <td>74.669285</td>\n",
       "      <td>3.006650</td>\n",
       "      <td>0</td>\n",
       "    </tr>\n",
       "    <tr>\n",
       "      <th>5</th>\n",
       "      <td>region_area_1003</td>\n",
       "      <td>4.581969</td>\n",
       "      <td>236.871806</td>\n",
       "      <td>33897.373012</td>\n",
       "      <td>6.053592</td>\n",
       "      <td>317.297905</td>\n",
       "      <td>416.487378</td>\n",
       "      <td>19.804848</td>\n",
       "      <td>62.438303</td>\n",
       "      <td>4.500208</td>\n",
       "      <td>0</td>\n",
       "    </tr>\n",
       "    <tr>\n",
       "      <th>6</th>\n",
       "      <td>region_area_1004</td>\n",
       "      <td>7.884842</td>\n",
       "      <td>280.016551</td>\n",
       "      <td>21734.132854</td>\n",
       "      <td>7.598271</td>\n",
       "      <td>315.935097</td>\n",
       "      <td>378.875894</td>\n",
       "      <td>11.740399</td>\n",
       "      <td>49.919322</td>\n",
       "      <td>4.631641</td>\n",
       "      <td>0</td>\n",
       "    </tr>\n",
       "    <tr>\n",
       "      <th>...</th>\n",
       "      <td>...</td>\n",
       "      <td>...</td>\n",
       "      <td>...</td>\n",
       "      <td>...</td>\n",
       "      <td>...</td>\n",
       "      <td>...</td>\n",
       "      <td>...</td>\n",
       "      <td>...</td>\n",
       "      <td>...</td>\n",
       "      <td>...</td>\n",
       "      <td>...</td>\n",
       "    </tr>\n",
       "    <tr>\n",
       "      <th>2251</th>\n",
       "      <td>region_area_99</td>\n",
       "      <td>9.177870</td>\n",
       "      <td>214.048719</td>\n",
       "      <td>20868.636030</td>\n",
       "      <td>7.421230</td>\n",
       "      <td>321.166545</td>\n",
       "      <td>437.099393</td>\n",
       "      <td>10.319275</td>\n",
       "      <td>62.545926</td>\n",
       "      <td>3.108770</td>\n",
       "      <td>0</td>\n",
       "    </tr>\n",
       "    <tr>\n",
       "      <th>2252</th>\n",
       "      <td>region_area_990</td>\n",
       "      <td>5.477283</td>\n",
       "      <td>216.209984</td>\n",
       "      <td>29046.388326</td>\n",
       "      <td>5.218200</td>\n",
       "      <td>371.638198</td>\n",
       "      <td>498.879595</td>\n",
       "      <td>17.370186</td>\n",
       "      <td>80.349797</td>\n",
       "      <td>6.357439</td>\n",
       "      <td>0</td>\n",
       "    </tr>\n",
       "    <tr>\n",
       "      <th>2255</th>\n",
       "      <td>region_area_993</td>\n",
       "      <td>8.347949</td>\n",
       "      <td>281.976992</td>\n",
       "      <td>13533.534844</td>\n",
       "      <td>7.318793</td>\n",
       "      <td>314.416241</td>\n",
       "      <td>537.485871</td>\n",
       "      <td>18.768901</td>\n",
       "      <td>58.167866</td>\n",
       "      <td>4.217861</td>\n",
       "      <td>0</td>\n",
       "    </tr>\n",
       "    <tr>\n",
       "      <th>2257</th>\n",
       "      <td>region_area_996</td>\n",
       "      <td>6.836225</td>\n",
       "      <td>217.516852</td>\n",
       "      <td>24293.477473</td>\n",
       "      <td>6.556425</td>\n",
       "      <td>333.626695</td>\n",
       "      <td>400.909955</td>\n",
       "      <td>16.111991</td>\n",
       "      <td>87.216925</td>\n",
       "      <td>3.666614</td>\n",
       "      <td>0</td>\n",
       "    </tr>\n",
       "    <tr>\n",
       "      <th>2259</th>\n",
       "      <td>region_area_998</td>\n",
       "      <td>6.490037</td>\n",
       "      <td>256.315408</td>\n",
       "      <td>19397.628700</td>\n",
       "      <td>7.589434</td>\n",
       "      <td>369.306186</td>\n",
       "      <td>489.891195</td>\n",
       "      <td>15.910085</td>\n",
       "      <td>57.097020</td>\n",
       "      <td>2.430883</td>\n",
       "      <td>0</td>\n",
       "    </tr>\n",
       "  </tbody>\n",
       "</table>\n",
       "<p>1713 rows × 11 columns</p>\n",
       "</div>"
      ],
      "text/plain": [
       "          region_area_        ph    Hardness        Solids  Chloramines  \\\n",
       "1      region_area_100  4.270716  217.611599  24405.555346     7.086700   \n",
       "2     region_area_1000  6.648849  232.462013  30733.808648     5.656462   \n",
       "4     region_area_1002  9.323584  263.484560  15751.480111     5.196259   \n",
       "5     region_area_1003  4.581969  236.871806  33897.373012     6.053592   \n",
       "6     region_area_1004  7.884842  280.016551  21734.132854     7.598271   \n",
       "...                ...       ...         ...           ...          ...   \n",
       "2251    region_area_99  9.177870  214.048719  20868.636030     7.421230   \n",
       "2252   region_area_990  5.477283  216.209984  29046.388326     5.218200   \n",
       "2255   region_area_993  8.347949  281.976992  13533.534844     7.318793   \n",
       "2257   region_area_996  6.836225  217.516852  24293.477473     6.556425   \n",
       "2259   region_area_998  6.490037  256.315408  19397.628700     7.589434   \n",
       "\n",
       "         Sulfate  Conductivity  Organic_carbon  Trihalomethanes  Turbidity  \\\n",
       "1     297.951852    359.623910       13.583526        54.589840   3.763906   \n",
       "2     344.670335    267.809179       17.863444        35.411181   4.827527   \n",
       "4     297.593625    409.878704       10.727265        74.669285   3.006650   \n",
       "5     317.297905    416.487378       19.804848        62.438303   4.500208   \n",
       "6     315.935097    378.875894       11.740399        49.919322   4.631641   \n",
       "...          ...           ...             ...              ...        ...   \n",
       "2251  321.166545    437.099393       10.319275        62.545926   3.108770   \n",
       "2252  371.638198    498.879595       17.370186        80.349797   6.357439   \n",
       "2255  314.416241    537.485871       18.768901        58.167866   4.217861   \n",
       "2257  333.626695    400.909955       16.111991        87.216925   3.666614   \n",
       "2259  369.306186    489.891195       15.910085        57.097020   2.430883   \n",
       "\n",
       "      Potability  \n",
       "1              0  \n",
       "2              0  \n",
       "4              0  \n",
       "5              0  \n",
       "6              0  \n",
       "...          ...  \n",
       "2251           0  \n",
       "2252           0  \n",
       "2255           0  \n",
       "2257           0  \n",
       "2259           0  \n",
       "\n",
       "[1713 rows x 11 columns]"
      ]
     },
     "execution_count": 35,
     "metadata": {},
     "output_type": "execute_result"
    }
   ],
   "source": [
    "water_data.dropna(subset=['Sulfate'])"
   ]
  },
  {
   "cell_type": "code",
   "execution_count": 36,
   "id": "f95c6e52",
   "metadata": {},
   "outputs": [],
   "source": [
    "water_data = pd.read_csv('train.csv')\n",
    "water_data = water_data.drop(['Sulfate', 'region_area_'], axis='columns')"
   ]
  },
  {
   "cell_type": "code",
   "execution_count": null,
   "id": "879c9607",
   "metadata": {},
   "outputs": [],
   "source": []
  },
  {
   "cell_type": "code",
   "execution_count": 37,
   "id": "d0613259",
   "metadata": {},
   "outputs": [],
   "source": [
    "#plot(water_data_phy, 'Turbidity')"
   ]
  },
  {
   "cell_type": "code",
   "execution_count": 38,
   "id": "a38cacc9",
   "metadata": {},
   "outputs": [],
   "source": [
    "# To fill in some of the missing data, a mean of the each column\n",
    "\n",
    "water_data[\"ph\"].fillna(water_data.groupby([\"Potability\"])[\"ph\"].transform(\"mean\"),inplace=True)\n",
    "#water_data[\"Sulfate\"].fillna(water_data.groupby([\"Potability\"])[\"Sulfate\"].transform(\"mean\"),inplace=True)\n",
    "water_data[\"Trihalomethanes\"].fillna(water_data.groupby([\"Potability\"])[\"Trihalomethanes\"].transform(\"mean\"),inplace=True)"
   ]
  },
  {
   "cell_type": "code",
   "execution_count": null,
   "id": "f888d3f5",
   "metadata": {},
   "outputs": [],
   "source": []
  },
  {
   "cell_type": "markdown",
   "id": "55701170",
   "metadata": {},
   "source": [
    "# Model Training \n",
    "\n",
    "I would train and test both physical and chemical properties of water sample in relation to potability "
   ]
  },
  {
   "cell_type": "code",
   "execution_count": 39,
   "id": "1528e2a6",
   "metadata": {},
   "outputs": [],
   "source": [
    "# Splitting\n",
    "X = water_data.drop(['Potability'], axis = 1)\n",
    "y = water_data['Potability']\n",
    "\n",
    "X_train, X_test, y_train, y_test = train_test_split(X,y, test_size=0.25, random_state=18, stratify=y) #stratify=y\n",
    "\n",
    "# Balancing data - oversampling minority\n",
    "smt = SMOTE()\n",
    "X_train, y_train = smt.fit_resample(X_train, y_train)\n",
    "\n",
    "# Scaling\n",
    "sc = StandardScaler()\n",
    "X_train=sc.fit_transform(X_train)\n",
    "X_test=sc.transform(X_test)"
   ]
  },
  {
   "cell_type": "code",
   "execution_count": 40,
   "id": "947a2b36",
   "metadata": {},
   "outputs": [
    {
     "data": {
      "text/html": [
       "<div>\n",
       "<style scoped>\n",
       "    .dataframe tbody tr th:only-of-type {\n",
       "        vertical-align: middle;\n",
       "    }\n",
       "\n",
       "    .dataframe tbody tr th {\n",
       "        vertical-align: top;\n",
       "    }\n",
       "\n",
       "    .dataframe thead th {\n",
       "        text-align: right;\n",
       "    }\n",
       "</style>\n",
       "<table border=\"1\" class=\"dataframe\">\n",
       "  <thead>\n",
       "    <tr style=\"text-align: right;\">\n",
       "      <th></th>\n",
       "      <th>ph</th>\n",
       "      <th>Hardness</th>\n",
       "      <th>Solids</th>\n",
       "      <th>Chloramines</th>\n",
       "      <th>Conductivity</th>\n",
       "      <th>Organic_carbon</th>\n",
       "      <th>Trihalomethanes</th>\n",
       "      <th>Turbidity</th>\n",
       "      <th>Potability</th>\n",
       "    </tr>\n",
       "  </thead>\n",
       "  <tbody>\n",
       "    <tr>\n",
       "      <th>0</th>\n",
       "      <td>3.716080</td>\n",
       "      <td>180.196811</td>\n",
       "      <td>18630.362669</td>\n",
       "      <td>6.330435</td>\n",
       "      <td>602.990359</td>\n",
       "      <td>15.285013</td>\n",
       "      <td>56.444076</td>\n",
       "      <td>4.500656</td>\n",
       "      <td>0</td>\n",
       "    </tr>\n",
       "    <tr>\n",
       "      <th>1</th>\n",
       "      <td>4.270716</td>\n",
       "      <td>217.611599</td>\n",
       "      <td>24405.555346</td>\n",
       "      <td>7.086700</td>\n",
       "      <td>359.623910</td>\n",
       "      <td>13.583526</td>\n",
       "      <td>54.589840</td>\n",
       "      <td>3.763906</td>\n",
       "      <td>0</td>\n",
       "    </tr>\n",
       "    <tr>\n",
       "      <th>2</th>\n",
       "      <td>6.648849</td>\n",
       "      <td>232.462013</td>\n",
       "      <td>30733.808648</td>\n",
       "      <td>5.656462</td>\n",
       "      <td>267.809179</td>\n",
       "      <td>17.863444</td>\n",
       "      <td>35.411181</td>\n",
       "      <td>4.827527</td>\n",
       "      <td>0</td>\n",
       "    </tr>\n",
       "    <tr>\n",
       "      <th>3</th>\n",
       "      <td>7.094076</td>\n",
       "      <td>261.753637</td>\n",
       "      <td>21174.713291</td>\n",
       "      <td>7.314074</td>\n",
       "      <td>582.848407</td>\n",
       "      <td>15.215849</td>\n",
       "      <td>90.367455</td>\n",
       "      <td>4.217553</td>\n",
       "      <td>0</td>\n",
       "    </tr>\n",
       "    <tr>\n",
       "      <th>4</th>\n",
       "      <td>9.323584</td>\n",
       "      <td>263.484560</td>\n",
       "      <td>15751.480111</td>\n",
       "      <td>5.196259</td>\n",
       "      <td>409.878704</td>\n",
       "      <td>10.727265</td>\n",
       "      <td>74.669285</td>\n",
       "      <td>3.006650</td>\n",
       "      <td>0</td>\n",
       "    </tr>\n",
       "  </tbody>\n",
       "</table>\n",
       "</div>"
      ],
      "text/plain": [
       "         ph    Hardness        Solids  Chloramines  Conductivity  \\\n",
       "0  3.716080  180.196811  18630.362669     6.330435    602.990359   \n",
       "1  4.270716  217.611599  24405.555346     7.086700    359.623910   \n",
       "2  6.648849  232.462013  30733.808648     5.656462    267.809179   \n",
       "3  7.094076  261.753637  21174.713291     7.314074    582.848407   \n",
       "4  9.323584  263.484560  15751.480111     5.196259    409.878704   \n",
       "\n",
       "   Organic_carbon  Trihalomethanes  Turbidity  Potability  \n",
       "0       15.285013        56.444076   4.500656           0  \n",
       "1       13.583526        54.589840   3.763906           0  \n",
       "2       17.863444        35.411181   4.827527           0  \n",
       "3       15.215849        90.367455   4.217553           0  \n",
       "4       10.727265        74.669285   3.006650           0  "
      ]
     },
     "execution_count": 40,
     "metadata": {},
     "output_type": "execute_result"
    }
   ],
   "source": [
    "water_data.head()"
   ]
  },
  {
   "cell_type": "code",
   "execution_count": 41,
   "id": "86125c32",
   "metadata": {},
   "outputs": [],
   "source": [
    "models = {\"Logistic Regression\": LogisticRegression(),\n",
    "         \"KNN\": KNeighborsClassifier(),\n",
    "         \"Random Forest\": RandomForestClassifier(),\n",
    "         \"Decision Tree\": DecisionTreeClassifier(),\n",
    "         \"Naive Bayes\": GaussianNB(),\n",
    "         \"ExtraTreesClassifier\": ExtraTreesClassifier(),\n",
    "         \"xgb Classifier\": XGBClassifier()}\n",
    "\n",
    "# Create a function to fit and score models\n",
    "def fit_and_score(models, X_train, X_test, y_train, y_test):\n",
    "   \n",
    "    \"\"\"\n",
    "   Fits and evaluates given machine learning models.\n",
    "   models: a dict of different Scikit_Learn machine learning models\n",
    "   X_train: training data (no labels)\n",
    "   X_test: testing data (no labels)\n",
    "   y_train: training labels\n",
    "   y_test: test labels\n",
    "   \"\"\" \n",
    "    # Set random seed\n",
    "    \n",
    "    np.random.seed(18)\n",
    "    # Make a dictionary to keep model scores\n",
    "    model_scores = {}\n",
    "    # Loop through models\n",
    "    for name, model in models.items():\n",
    "        # Fit model to data\n",
    "        model.fit(X_train, y_train)\n",
    "        # Evaluate model and append its score to model_scores\n",
    "        model_scores[name] = cross_val_score(model,\n",
    "                                             X_test,\n",
    "                                             y_test,\n",
    "                                            scoring='accuracy',\n",
    "                                            cv=5\n",
    "                                            ).mean()\n",
    "    return model_scores\n"
   ]
  },
  {
   "cell_type": "code",
   "execution_count": 42,
   "id": "ef7bcf3d",
   "metadata": {},
   "outputs": [
    {
     "name": "stdout",
     "output_type": "stream",
     "text": [
      "[23:30:04] WARNING: C:/Users/Administrator/workspace/xgboost-win64_release_1.4.0/src/learner.cc:1095: Starting in XGBoost 1.3.0, the default evaluation metric used with the objective 'binary:logistic' was changed from 'error' to 'logloss'. Explicitly set eval_metric if you'd like to restore the old behavior.\n",
      "[23:30:05] WARNING: C:/Users/Administrator/workspace/xgboost-win64_release_1.4.0/src/learner.cc:1095: Starting in XGBoost 1.3.0, the default evaluation metric used with the objective 'binary:logistic' was changed from 'error' to 'logloss'. Explicitly set eval_metric if you'd like to restore the old behavior.\n",
      "[23:30:05] WARNING: C:/Users/Administrator/workspace/xgboost-win64_release_1.4.0/src/learner.cc:1095: Starting in XGBoost 1.3.0, the default evaluation metric used with the objective 'binary:logistic' was changed from 'error' to 'logloss'. Explicitly set eval_metric if you'd like to restore the old behavior.\n",
      "[23:30:05] WARNING: C:/Users/Administrator/workspace/xgboost-win64_release_1.4.0/src/learner.cc:1095: Starting in XGBoost 1.3.0, the default evaluation metric used with the objective 'binary:logistic' was changed from 'error' to 'logloss'. Explicitly set eval_metric if you'd like to restore the old behavior.\n",
      "[23:30:06] WARNING: C:/Users/Administrator/workspace/xgboost-win64_release_1.4.0/src/learner.cc:1095: Starting in XGBoost 1.3.0, the default evaluation metric used with the objective 'binary:logistic' was changed from 'error' to 'logloss'. Explicitly set eval_metric if you'd like to restore the old behavior.\n",
      "[23:30:06] WARNING: C:/Users/Administrator/workspace/xgboost-win64_release_1.4.0/src/learner.cc:1095: Starting in XGBoost 1.3.0, the default evaluation metric used with the objective 'binary:logistic' was changed from 'error' to 'logloss'. Explicitly set eval_metric if you'd like to restore the old behavior.\n"
     ]
    },
    {
     "data": {
      "text/plain": [
       "{'Logistic Regression': 0.6017699115044247,\n",
       " 'KNN': 0.5734513274336284,\n",
       " 'Random Forest': 0.6619469026548673,\n",
       " 'Decision Tree': 0.6141592920353982,\n",
       " 'Naive Bayes': 0.6194690265486725,\n",
       " 'ExtraTreesClassifier': 0.6300884955752213,\n",
       " 'xgb Classifier': 0.6584070796460177}"
      ]
     },
     "execution_count": 42,
     "metadata": {},
     "output_type": "execute_result"
    }
   ],
   "source": [
    "import numpy as np\n",
    "\n",
    "model_scores = fit_and_score(models,X_train,X_test,y_train,y_test)\n",
    "\n",
    "model_scores"
   ]
  },
  {
   "cell_type": "code",
   "execution_count": 49,
   "id": "773af207",
   "metadata": {},
   "outputs": [
    {
     "data": {
      "image/png": "[encoded data removed]",
      "text/plain": [
       "<Figure size 432x288 with 1 Axes>"
      ]
     },
     "metadata": {
      "needs_background": "light"
     },
     "output_type": "display_data"
    }
   ],
   "source": [
    "model_compare = pd.DataFrame(model_scores, index=[\"accuracy\"])\n",
    "model_compare.T.plot.bar(color=\"orange\");"
   ]
  },
  {
   "cell_type": "code",
   "execution_count": 43,
   "id": "87f74bfd",
   "metadata": {},
   "outputs": [],
   "source": [
    "# Splitting\n",
    "X = water_data_phy.drop(['Potability'], axis = 1)\n",
    "y = water_data_phy['Potability']\n",
    "\n",
    "X_train, X_test, y_train, y_test = train_test_split(X,y, test_size=0.25, random_state=18, stratify=y) #stratify=y\n",
    "\n",
    "# Balancing data - oversampling minority\n",
    "smt = SMOTE()\n",
    "X_train, y_train = smt.fit_resample(X_train, y_train)\n",
    "\n",
    "# Scaling\n",
    "sc = StandardScaler()\n",
    "X_train=sc.fit_transform(X_train)\n",
    "X_test=sc.transform(X_test)"
   ]
  },
  {
   "cell_type": "code",
   "execution_count": 44,
   "id": "b22c6b7d",
   "metadata": {},
   "outputs": [],
   "source": [
    "models = {\"Logistic Regression\": LogisticRegression(),\n",
    "         \"KNN\": KNeighborsClassifier(),\n",
    "         \"Random Forest\": RandomForestClassifier(),\n",
    "         \"Decision Tree\": DecisionTreeClassifier(),\n",
    "         \"Naive Bayes\": GaussianNB(),\n",
    "         \"ExtraTreesClassifier\": ExtraTreesClassifier(),\n",
    "         \"xgb Classifier\": XGBClassifier()}\n",
    "\n",
    "# Create a function to fit and score models\n",
    "def fit_and_score(models, X_train, X_test, y_train, y_test):\n",
    "   \n",
    "    \"\"\"\n",
    "   Fits and evaluates given machine learning models.\n",
    "   models: a dict of different Scikit_Learn machine learning models\n",
    "   X_train: training data (no labels)\n",
    "   X_test: testing data (no labels)\n",
    "   y_train: training labels\n",
    "   y_test: test labels\n",
    "   \"\"\" \n",
    "    # Set random seed\n",
    "    \n",
    "    np.random.seed(18)\n",
    "    # Make a dictionary to keep model scores\n",
    "    model_scores = {}\n",
    "    # Loop through models\n",
    "    for name, model in models.items():\n",
    "        # Fit model to data\n",
    "        model.fit(X_train, y_train)\n",
    "        # Evaluate model and append its score to model_scores\n",
    "        model_scores[name] = cross_val_score(model,\n",
    "                                             X_test,\n",
    "                                             y_test,\n",
    "                                            scoring='accuracy',\n",
    "                                            cv=5\n",
    "                                            ).mean()\n",
    "    return model_scores\n"
   ]
  },
  {
   "cell_type": "code",
   "execution_count": 45,
   "id": "335a5a83",
   "metadata": {},
   "outputs": [
    {
     "name": "stdout",
     "output_type": "stream",
     "text": [
      "[23:30:14] WARNING: C:/Users/Administrator/workspace/xgboost-win64_release_1.4.0/src/learner.cc:1095: Starting in XGBoost 1.3.0, the default evaluation metric used with the objective 'binary:logistic' was changed from 'error' to 'logloss'. Explicitly set eval_metric if you'd like to restore the old behavior.\n",
      "[23:30:14] WARNING: C:/Users/Administrator/workspace/xgboost-win64_release_1.4.0/src/learner.cc:1095: Starting in XGBoost 1.3.0, the default evaluation metric used with the objective 'binary:logistic' was changed from 'error' to 'logloss'. Explicitly set eval_metric if you'd like to restore the old behavior.\n",
      "[23:30:14] WARNING: C:/Users/Administrator/workspace/xgboost-win64_release_1.4.0/src/learner.cc:1095: Starting in XGBoost 1.3.0, the default evaluation metric used with the objective 'binary:logistic' was changed from 'error' to 'logloss'. Explicitly set eval_metric if you'd like to restore the old behavior.\n",
      "[23:30:15] WARNING: C:/Users/Administrator/workspace/xgboost-win64_release_1.4.0/src/learner.cc:1095: Starting in XGBoost 1.3.0, the default evaluation metric used with the objective 'binary:logistic' was changed from 'error' to 'logloss'. Explicitly set eval_metric if you'd like to restore the old behavior.\n",
      "[23:30:15] WARNING: C:/Users/Administrator/workspace/xgboost-win64_release_1.4.0/src/learner.cc:1095: Starting in XGBoost 1.3.0, the default evaluation metric used with the objective 'binary:logistic' was changed from 'error' to 'logloss'. Explicitly set eval_metric if you'd like to restore the old behavior.\n",
      "[23:30:15] WARNING: C:/Users/Administrator/workspace/xgboost-win64_release_1.4.0/src/learner.cc:1095: Starting in XGBoost 1.3.0, the default evaluation metric used with the objective 'binary:logistic' was changed from 'error' to 'logloss'. Explicitly set eval_metric if you'd like to restore the old behavior.\n"
     ]
    },
    {
     "data": {
      "text/plain": [
       "{'Logistic Regression': 0.6176991150442477,\n",
       " 'KNN': 0.5398230088495575,\n",
       " 'Random Forest': 0.5858407079646017,\n",
       " 'Decision Tree': 0.5646017699115043,\n",
       " 'Naive Bayes': 0.6,\n",
       " 'ExtraTreesClassifier': 0.5805309734513274,\n",
       " 'xgb Classifier': 0.5911504424778761}"
      ]
     },
     "execution_count": 45,
     "metadata": {},
     "output_type": "execute_result"
    }
   ],
   "source": [
    "import numpy as np\n",
    "\n",
    "model_scores = fit_and_score(models,X_train,X_test,y_train,y_test)\n",
    "\n",
    "model_scores"
   ]
  },
  {
   "cell_type": "code",
   "execution_count": 50,
   "id": "4b55ad49",
   "metadata": {},
   "outputs": [
    {
     "data": {
      "image/png": "[encoded data removed]",
      "text/plain": [
       "<Figure size 432x288 with 1 Axes>"
      ]
     },
     "metadata": {
      "needs_background": "light"
     },
     "output_type": "display_data"
    }
   ],
   "source": [
    "model_compare = pd.DataFrame(model_scores, index=[\"accuracy\"])\n",
    "model_compare.T.plot.bar(color=\"orange\");"
   ]
  },
  {
   "cell_type": "code",
   "execution_count": 46,
   "id": "16773b7e",
   "metadata": {},
   "outputs": [],
   "source": [
    "water_data_chem.head()\n",
    "water_data_chem[\"ph\"].fillna(water_data_chem.groupby([\"Potability\"])[\"ph\"].transform(\"mean\"),inplace=True)\n",
    "water_data_chem[\"Sulfate\"].fillna(water_data_chem.groupby([\"Potability\"])[\"Sulfate\"].transform(\"mean\"),inplace=True)\n",
    "water_data_chem[\"Trihalomethanes\"].fillna(water_data_chem.groupby([\"Potability\"])[\"Trihalomethanes\"].transform(\"mean\"),inplace=True)"
   ]
  },
  {
   "cell_type": "code",
   "execution_count": 47,
   "id": "7afa466a",
   "metadata": {},
   "outputs": [],
   "source": [
    "# Splitting\n",
    "X = water_data_chem.drop(['Potability'], axis = 1)\n",
    "y = water_data_chem['Potability']\n",
    "\n",
    "X_train, X_test, y_train, y_test = train_test_split(X,y, test_size=0.25, random_state=18, stratify=y) #stratify=y\n",
    "\n",
    "# Balancing data - oversampling minority\n",
    "smt = SMOTE()\n",
    "X_train, y_train = smt.fit_resample(X_train, y_train)\n",
    "\n",
    "# Scaling\n",
    "sc = StandardScaler()\n",
    "X_train=sc.fit_transform(X_train)\n",
    "X_test=sc.transform(X_test)"
   ]
  },
  {
   "cell_type": "code",
   "execution_count": 48,
   "id": "9cc9f9e0",
   "metadata": {},
   "outputs": [
    {
     "name": "stdout",
     "output_type": "stream",
     "text": [
      "[23:30:24] WARNING: C:/Users/Administrator/workspace/xgboost-win64_release_1.4.0/src/learner.cc:1095: Starting in XGBoost 1.3.0, the default evaluation metric used with the objective 'binary:logistic' was changed from 'error' to 'logloss'. Explicitly set eval_metric if you'd like to restore the old behavior.\n",
      "[23:30:24] WARNING: C:/Users/Administrator/workspace/xgboost-win64_release_1.4.0/src/learner.cc:1095: Starting in XGBoost 1.3.0, the default evaluation metric used with the objective 'binary:logistic' was changed from 'error' to 'logloss'. Explicitly set eval_metric if you'd like to restore the old behavior.\n",
      "[23:30:24] WARNING: C:/Users/Administrator/workspace/xgboost-win64_release_1.4.0/src/learner.cc:1095: Starting in XGBoost 1.3.0, the default evaluation metric used with the objective 'binary:logistic' was changed from 'error' to 'logloss'. Explicitly set eval_metric if you'd like to restore the old behavior.\n",
      "[23:30:25] WARNING: C:/Users/Administrator/workspace/xgboost-win64_release_1.4.0/src/learner.cc:1095: Starting in XGBoost 1.3.0, the default evaluation metric used with the objective 'binary:logistic' was changed from 'error' to 'logloss'. Explicitly set eval_metric if you'd like to restore the old behavior.\n",
      "[23:30:25] WARNING: C:/Users/Administrator/workspace/xgboost-win64_release_1.4.0/src/learner.cc:1095: Starting in XGBoost 1.3.0, the default evaluation metric used with the objective 'binary:logistic' was changed from 'error' to 'logloss'. Explicitly set eval_metric if you'd like to restore the old behavior.\n",
      "[23:30:25] WARNING: C:/Users/Administrator/workspace/xgboost-win64_release_1.4.0/src/learner.cc:1095: Starting in XGBoost 1.3.0, the default evaluation metric used with the objective 'binary:logistic' was changed from 'error' to 'logloss'. Explicitly set eval_metric if you'd like to restore the old behavior.\n"
     ]
    },
    {
     "data": {
      "text/plain": [
       "{'Logistic Regression': 0.6,\n",
       " 'KNN': 0.6053097345132743,\n",
       " 'Random Forest': 0.7646017699115044,\n",
       " 'Decision Tree': 0.7203539823008849,\n",
       " 'Naive Bayes': 0.631858407079646,\n",
       " 'ExtraTreesClassifier': 0.6601769911504425,\n",
       " 'xgb Classifier': 0.7451327433628319}"
      ]
     },
     "execution_count": 48,
     "metadata": {},
     "output_type": "execute_result"
    }
   ],
   "source": [
    "import numpy as np\n",
    "\n",
    "model_scores = fit_and_score(models,X_train,X_test,y_train,y_test)\n",
    "\n",
    "model_scores"
   ]
  },
  {
   "cell_type": "code",
   "execution_count": 51,
   "id": "cbc9ead2",
   "metadata": {},
   "outputs": [
    {
     "data": {
      "image/png": "[encoded data removed]",
      "text/plain": [
       "<Figure size 432x288 with 1 Axes>"
      ]
     },
     "metadata": {
      "needs_background": "light"
     },
     "output_type": "display_data"
    }
   ],
   "source": [
    "model_compare = pd.DataFrame(model_scores, index=[\"accuracy\"])\n",
    "model_compare.T.plot.bar(color=\"orange\");"
   ]
  },
  {
   "cell_type": "code",
   "execution_count": null,
   "id": "4e1ff2dc",
   "metadata": {},
   "outputs": [],
   "source": [
    "xgb_model.fit(X_train, y_train)\n",
    "y_pred = xgb_model.predict(X_val)\n"
   ]
  },
  {
   "cell_type": "code",
   "execution_count": 52,
   "id": "cb35e0f3",
   "metadata": {},
   "outputs": [
    {
     "ename": "NameError",
     "evalue": "name 'predictions' is not defined",
     "output_type": "error",
     "traceback": [
      "\u001b[1;31m---------------------------------------------------------------------------\u001b[0m",
      "\u001b[1;31mNameError\u001b[0m                                 Traceback (most recent call last)",
      "\u001b[1;32m<ipython-input-52-c4a0cc0cb03a>\u001b[0m in \u001b[0;36m<module>\u001b[1;34m\u001b[0m\n\u001b[1;32m----> 1\u001b[1;33m \u001b[0mpredictions\u001b[0m\u001b[1;33m[\u001b[0m\u001b[1;34m'region_area_'\u001b[0m\u001b[1;33m]\u001b[0m \u001b[1;33m=\u001b[0m \u001b[0mwater_data_test\u001b[0m\u001b[1;33m[\u001b[0m\u001b[1;34m'region_area_'\u001b[0m\u001b[1;33m]\u001b[0m\u001b[1;33m\u001b[0m\u001b[1;33m\u001b[0m\u001b[0m\n\u001b[0m\u001b[0;32m      2\u001b[0m \u001b[0mpredictions\u001b[0m\u001b[1;33m.\u001b[0m\u001b[0mto_csv\u001b[0m\u001b[1;33m(\u001b[0m\u001b[1;34m\"submission.csv\"\u001b[0m\u001b[1;33m,\u001b[0m \u001b[0mindex\u001b[0m\u001b[1;33m=\u001b[0m\u001b[1;32mFalse\u001b[0m\u001b[1;33m)\u001b[0m\u001b[1;33m\u001b[0m\u001b[1;33m\u001b[0m\u001b[0m\n",
      "\u001b[1;31mNameError\u001b[0m: name 'predictions' is not defined"
     ]
    }
   ],
   "source": [
    "pre\n",
    "predictions['region_area_'] = water_data_test['region_area_']\n",
    "predictions.to_csv(\"submission.csv\", index=False)"
   ]
  },
  {
   "cell_type": "code",
   "execution_count": null,
   "id": "1d156f97",
   "metadata": {},
   "outputs": [],
   "source": [
    "submission = pd.DataFrame({\"region_area_\": water_data[\"uniqueid\"] + \" x \" + test_data[\"country\"],\n",
    "\n",
    "\"bank_account\": test_data.bank_account})"
   ]
  }
 ],
 "metadata": {
  "kernelspec": {
   "display_name": "Python 3",
   "language": "python",
   "name": "python3"
  },
  "language_info": {
   "codemirror_mode": {
    "name": "ipython",
    "version": 3
   },
   "file_extension": ".py",
   "mimetype": "text/x-python",
   "name": "python",
   "nbconvert_exporter": "python",
   "pygments_lexer": "ipython3",
   "version": "3.8.8"
  }
 },
 "nbformat": 4,
 "nbformat_minor": 5
}
